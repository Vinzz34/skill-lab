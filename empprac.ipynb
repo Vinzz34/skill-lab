{
 "cells": [
  {
   "cell_type": "code",
   "execution_count": 92,
   "id": "60abc552-8224-4e2a-b0ee-8a6ef09d9059",
   "metadata": {},
   "outputs": [
    {
     "name": "stdout",
     "output_type": "stream",
     "text": [
      "+-----+---------+---------+---------+---------+------------------+----------------+------------+--------------+------------+-------+--------------------------+---------------+--------------+--------------------+----------+-----+----------------------+----------+------------+--------+-----------+-----------------+-----------------------+\n",
      "|EmpID|FirstName| LastName|StartDate| ExitDate|             Title|      Supervisor|BusinessUnit|EmployeeStatus|EmployeeType|PayZone|EmployeeClassificationType|TerminationType|DepartmentType|            Division|       DOB|State|JobFunctionDescription|GenderCode|LocationCode|RaceDesc|MaritalDesc|Performance Score|Current Employee Rating|\n",
      "+-----+---------+---------+---------+---------+------------------+----------------+------------+--------------+------------+-------+--------------------------+---------------+--------------+--------------------+----------+-----+----------------------+----------+------------+--------+-----------+-----------------+-----------------------+\n",
      "| 3461|  Lincoln|  Compton|18-Jul-19|01-Oct-21|Area Sales Manager|    Tammy Conner|          EW|  Future Start|   Full-Time| Zone C|                 Part-Time|    Resignation|         Sales|       General - Con|29-12-1997|   CO|               Foreman|      Male|       78046|Hispanic|    Married|Needs Improvement|                      1|\n",
      "| 3463|   Kayden|   Dodson|30-Apr-20|18-Jul-21|Area Sales Manager|  Jessica Peters|         TNS|        Active|   Part-Time| Zone A|                 Temporary|     Retirement|         Sales|    Field Operations|21-06-1951|   IN|            Tower Hand|      Male|       12703|Hispanic|     Single|      Fully Meets|                      1|\n",
      "| 3467|    Celia|   Curtis|06-May-20|     NULL|Area Sales Manager|Michael Odonnell|         WBL|        Active|    Contract| Zone A|                 Part-Time|            Unk|         Sales|            Fielders|14-05-1987|   KY|              Engineer|    Female|       94333|   Asian|   Divorced|          Exceeds|                      6|\n",
      "| 3480| Jerimiah|   Harmon|08-Sep-22|16-Oct-22|Area Sales Manager|       Eric King|          PL|  Future Start|   Full-Time| Zone C|                 Temporary|     Retirement|         Sales|                Catv|09-08-1946|   TX|            Supervisor|    Female|       75671|   Black|    Widowed|      Fully Meets|                      6|\n",
      "| 3483|  Jaslene|  Harding|26-Sep-21|     NULL|Area Sales Manager|Krystal Hamilton|         SVG|        Active|   Part-Time| Zone B|                 Temporary|            Unk|         Sales|Project Managemen...|19-06-1964|   CO|           Coordinator|      Male|       42605|   Asian|    Widowed|      Fully Meets|                      6|\n",
      "| 3492|  Vicente|  Merritt|26-Nov-19|     NULL|Area Sales Manager|    Ashley Smith|          PL|        Active|   Full-Time| Zone C|                 Full-Time|            Unk|         Sales|       General - Con|08-01-1993|   CO|                 Clerk|      Male|       31676|   Asian|    Married|      Fully Meets|                      1|\n",
      "| 3497|   Graham|Rodriguez|08-Dec-21|     NULL|Area Sales Manager|   Kendra Murray|         TNS|        Active|   Part-Time| Zone C|                 Temporary|            Unk|         Sales|Project Managemen...|18-02-1981|   OR|               Lineman|    Female|       58210|Hispanic|    Widowed|      Fully Meets|                      6|\n",
      "| 3500|   Nevaeh|    Lucas|20-Nov-18|21-Jun-20|Area Sales Manager|   Bryan Douglas|         NEL|        Active|   Full-Time| Zone B|                 Part-Time|      Voluntary|         Sales|        Shop (Fleet)|25-02-2000|   TX|              Mechanic|    Female|       80424|   White|   Divorced|      Fully Meets|                      1|\n",
      "| 3502|   Eugene|    Marks|01-Oct-19|     NULL|Area Sales Manager|   Angela Morris|         BPC|        Active|   Full-Time| Zone C|                 Temporary|            Unk|         Sales|            Splicing|29-06-1976|   TX|           Electrician|      Male|       49914|   White|    Married|      Fully Meets|                      1|\n",
      "| 3505|    Amaya|    Hicks|29-Aug-20|     NULL|Area Sales Manager| Michael Wilkins|          EW|        Active|    Contract| Zone B|                 Temporary|            Unk|         Sales|    Field Operations|24-07-1943|   IN|             Groundman|      Male|       72324|Hispanic|    Widowed|      Fully Meets|                      1|\n",
      "| 3514|   Alexus|    Estes|15-Apr-20|     NULL|Area Sales Manager|  April Randolph|         BPC|        Active|   Full-Time| Zone B|                 Part-Time|            Unk|         Sales|Wireline Construc...|03-01-1958|   TX|               Manager|      Male|       17419|   Asian|    Married|      Fully Meets|                      1|\n",
      "| 3520|   Caiden|    Munoz|13-Dec-20|13-Jan-23|Area Sales Manager|   Teresa Daniel|         TNS|        Active|   Full-Time| Zone C|                 Temporary|    Involuntary|         Sales|Project Managemen...|01-03-1963|   ND|               Manager|    Female|       18983|   Black|   Divorced|      Fully Meets|                      1|\n",
      "| 3522|  Marques|Armstrong|02-Mar-20|     NULL|Area Sales Manager|  Michael Nguyen|         BPC|        Active|   Full-Time| Zone C|                 Part-Time|            Unk|         Sales|            Splicing|12-10-1983|   KY|               Splicer|    Female|       34369|   Other|     Single|      Fully Meets|                      1|\n",
      "| 3527|    Ahmed|  Hawkins|01-May-20|25-Feb-21|Area Sales Manager|   Hannah Snyder|          PL|        Active|   Full-Time| Zone B|                 Temporary|     Retirement|         Sales|              Aerial|15-10-1974|   CO|               Lineman|      Male|       46645|   Black|    Married|      Fully Meets|                      1|\n",
      "| 3531|   Ronnie|    Mayer|17-Jun-23|     NULL|Area Sales Manager|     Dylan Blake|         WBL|        Active|   Full-Time| Zone C|                 Full-Time|            Unk|         Sales|Project Managemen...|18-05-1943|   CA|       Project Manager|      Male|       18409|   Black|   Divorced|      Fully Meets|                      1|\n",
      "| 3532|   Marlon|     Ford|14-Oct-21|     NULL|Area Sales Manager|Monique Anderson|          EW|        Active|   Part-Time| Zone B|                 Full-Time|            Unk|         IT/IS|            Wireless|27-11-1966|   OR|            Technician|    Female|       40306|   Black|    Widowed|      Fully Meets|                      1|\n",
      "| 3542|    Ellie|     Gill|15-Apr-23|     NULL|Area Sales Manager|   Amanda Knight|          EW|        Active|    Contract| Zone A|                 Temporary|            Unk|         Sales|    Field Operations|01-03-1948|   IN|               Manager|      Male|       45456|   White|    Married|Needs Improvement|                      1|\n",
      "| 3545|    Ryann|    Rubio|07-Mar-22|     NULL|Area Sales Manager|    Andres Jones|          EW|        Active|   Full-Time| Zone C|                 Temporary|            Unk|         IT/IS|    Field Operations|28-01-1943|   OR|               Locator|    Female|        9733|   Black|    Widowed|      Fully Meets|                      1|\n",
      "| 3546|    Paris|     Carr|31-Jul-21|27-Jan-23|Area Sales Manager| Jeffrey Huffman|        CCDR|        Active|   Full-Time| Zone B|                 Part-Time|      Voluntary|         Sales|       General - Con|14-07-1980|   ND|               Foreman|      Male|       35786|Hispanic|    Widowed|          Exceeds|                      1|\n",
      "| 3548|    Sanaa|    Glass|11-Jul-21|10-Oct-22|Area Sales Manager|  Stephen Garcia|         WBL|        Active|   Part-Time| Zone A|                 Full-Time|    Resignation|         Sales|       General - Con|25-01-1964|   KY|            Technician|    Female|       40135|   White|     Single|      Fully Meets|                      1|\n",
      "+-----+---------+---------+---------+---------+------------------+----------------+------------+--------------+------------+-------+--------------------------+---------------+--------------+--------------------+----------+-----+----------------------+----------+------------+--------+-----------+-----------------+-----------------------+\n",
      "only showing top 20 rows\n",
      "\n"
     ]
    }
   ],
   "source": [
    "from pyspark.sql import SparkSession\n",
    "from pyspark.sql.functions import *\n",
    "\n",
    "spark = SparkSession.builder.appName(\"Employee\").getOrCreate()\n",
    "\n",
    "df = spark.read.csv(\"emp_data.csv\",header=True,inferSchema=True)\n",
    "\n",
    "df.show()"
   ]
  },
  {
   "cell_type": "code",
   "execution_count": 93,
   "id": "f9ee963e-f321-44a7-b1a9-64cda7eaabe6",
   "metadata": {},
   "outputs": [
    {
     "name": "stdout",
     "output_type": "stream",
     "text": [
      "+-----+---------+--------+---------+--------+-----+----------+------------+--------------+------------+-------+--------------------------+---------------+--------------+--------+---+-----+----------------------+----------+------------+--------+-----------+-----------------+-----------------------+\n",
      "|EmpID|FirstName|LastName|StartDate|ExitDate|Title|Supervisor|BusinessUnit|EmployeeStatus|EmployeeType|PayZone|EmployeeClassificationType|TerminationType|DepartmentType|Division|DOB|State|JobFunctionDescription|GenderCode|LocationCode|RaceDesc|MaritalDesc|Performance Score|Current Employee Rating|\n",
      "+-----+---------+--------+---------+--------+-----+----------+------------+--------------+------------+-------+--------------------------+---------------+--------------+--------+---+-----+----------------------+----------+------------+--------+-----------+-----------------+-----------------------+\n",
      "|    0|        0|       0|        0|     263|    0|         0|           0|             0|           0|      0|                         0|              0|             0|       0|  0|    0|                     0|         0|           0|       0|          0|                0|                      0|\n",
      "+-----+---------+--------+---------+--------+-----+----------+------------+--------------+------------+-------+--------------------------+---------------+--------------+--------+---+-----+----------------------+----------+------------+--------+-----------+-----------------+-----------------------+\n",
      "\n"
     ]
    }
   ],
   "source": [
    "df.select([count(when(col(c).isNull() ,c)).alias(c) for c in df.columns]).show()"
   ]
  },
  {
   "cell_type": "code",
   "execution_count": 94,
   "id": "cbc8b598-3678-47c1-aa0a-5b2425031f6f",
   "metadata": {},
   "outputs": [],
   "source": [
    "df = df.fillna({\"LastName\":\"Unknown\"})"
   ]
  },
  {
   "cell_type": "code",
   "execution_count": 95,
   "id": "2efec015-1f63-4e38-839e-b73cba05818a",
   "metadata": {},
   "outputs": [],
   "source": [
    "df = df.dropna(subset=[\"EmpID\",\"StartDate\"])"
   ]
  },
  {
   "cell_type": "code",
   "execution_count": 96,
   "id": "122c3aeb-9354-4815-8dc7-ec64fe0e3532",
   "metadata": {},
   "outputs": [],
   "source": [
    "df = df.withColumn(\"Current Employee Rating\", when(col(\"Current Employee Rating\") < 1, 1).when(col(\"Current Employee Rating\") > 5, 5)\n",
    ".otherwise(col(\"Current Employee Rating\")))"
   ]
  },
  {
   "cell_type": "code",
   "execution_count": 97,
   "id": "9aca3f77-93fc-48b2-aaf4-7899b955d81d",
   "metadata": {},
   "outputs": [],
   "source": [
    "df = df.filter(length(col(\"LocationCode\")) == 5)"
   ]
  },
  {
   "cell_type": "code",
   "execution_count": 98,
   "id": "62d907ce-fef3-4e28-b0fe-6a990db82bf8",
   "metadata": {},
   "outputs": [],
   "source": [
    "df = df.dropDuplicates()"
   ]
  },
  {
   "cell_type": "code",
   "execution_count": 99,
   "id": "3436affc-42a3-4506-9515-10181a7cd7a6",
   "metadata": {},
   "outputs": [
    {
     "name": "stdout",
     "output_type": "stream",
     "text": [
      "+--------------------+--------------------+-----+\n",
      "|trim(DepartmentType)|         trim(Title)|count|\n",
      "+--------------------+--------------------+-----+\n",
      "|               IT/IS|Principal Data Ar...|    7|\n",
      "|               IT/IS|        Data Analyst|    4|\n",
      "|          Production|Production Techni...|   54|\n",
      "|               IT/IS|Sr. Network Engineer|   25|\n",
      "|    Executive Office|    Network Engineer|   15|\n",
      "|               IT/IS|    Network Engineer|   17|\n",
      "|          Production|Production Techni...|    1|\n",
      "|          Production|Production Techni...|  157|\n",
      "|               IT/IS|      Data Architect|    2|\n",
      "|               IT/IS|  Area Sales Manager|    4|\n",
      "|               Sales|  Area Sales Manager|  106|\n",
      "|               IT/IS|Enterprise Architect|    4|\n",
      "|               IT/IS|          IT Support|   36|\n",
      "|               Sales| Area Sales Manager?|    1|\n",
      "|               Sales| Area Sales Manager.|    1|\n",
      "|               IT/IS|Software Engineer...|    1|\n",
      "|               IT/IS|      Sr. Accountant|    4|\n",
      "|               IT/IS|             Sr. DBA|    4|\n",
      "|               IT/IS|Database Administ...|    9|\n",
      "|               IT/IS|                 CIO|    2|\n",
      "+--------------------+--------------------+-----+\n",
      "only showing top 20 rows\n",
      "\n"
     ]
    }
   ],
   "source": [
    "df.groupBy(trim(\"DepartmentType\"),trim(\"Title\")).count().show()"
   ]
  },
  {
   "cell_type": "code",
   "execution_count": 100,
   "id": "5e671089-3e05-4d6b-9c6e-8e50fdf6bd5d",
   "metadata": {},
   "outputs": [],
   "source": [
    "df = df.withColumn(\"Performance Score\", when(col(\"Performance Score\") == \"Exceeds\", 3)\n",
    "                   .when(col(\"Performance Score\") == \"Fully Meets\", 2)\n",
    "                   .when(col(\"Performance Score\") == \"Needs Improvement\", 1)\n",
    "                   .otherwise(0))"
   ]
  },
  {
   "cell_type": "code",
   "execution_count": 101,
   "id": "98b0543c-9954-42c3-b493-bb273f25f0fd",
   "metadata": {},
   "outputs": [
    {
     "name": "stdout",
     "output_type": "stream",
     "text": [
      "+-----+---------+--------+-----------------+-----------------+\n",
      "|EmpID|FirstName|LastName|   DepartmentType|Performance Score|\n",
      "+-----+---------+--------+-----------------+-----------------+\n",
      "| 3703|  Addisyn|Guerrero|Production       |                3|\n",
      "| 3822|  Katrina| Lambert| Executive Office|                2|\n",
      "| 3541|    Aaron|   Weber|            Sales|                3|\n",
      "| 3450|   Reilly|   Moyer|            Sales|                3|\n",
      "| 3708|     Case|  Gaines|Production       |                3|\n",
      "| 3866|   Kaeden|  Vargas| Executive Office|                2|\n",
      "| 3964|   Marlee| Stevens|            IT/IS|                3|\n",
      "| 3659|   Kaylee| Baldwin|Production       |                3|\n",
      "| 3540|     Maya|  Mccann|            Sales|                3|\n",
      "| 3974|   Zander|  Franco|            IT/IS|                3|\n",
      "| 3663|  Brandon|Anderson|Production       |                3|\n",
      "| 3834|  Monique|  Pierce| Executive Office|                2|\n",
      "| 3973| Brooklyn|  Tanner|            IT/IS|                3|\n",
      "| 3854|   Jayden|   Mckee| Executive Office|                2|\n",
      "| 3829|Jaqueline| Pittman|            IT/IS|                3|\n",
      "| 3546|    Paris|    Carr|            Sales|                3|\n",
      "| 3693|     Amya|    Vega|Production       |                3|\n",
      "| 3556|   Damien|    Howe|            Sales|                3|\n",
      "| 3970|     Macy| Webster|            IT/IS|                3|\n",
      "| 3796|Jefferson|   White|Production       |                3|\n",
      "+-----+---------+--------+-----------------+-----------------+\n",
      "only showing top 20 rows\n",
      "\n"
     ]
    }
   ],
   "source": [
    "high = df.groupBy(\"DepartmentType\").agg(max(\"Performance Score\").alias(\"Max Performance Score\"))\n",
    "high = high.withColumnRenamed(\"DepartmentType\",\"DepartmentType1\")\n",
    "\n",
    "high = high.join(df,(df[\"DepartmentType\"] == high[\"DepartmentType1\"]) & (df[\"Performance Score\"] == high[\"Max Performance Score\"])).select(\n",
    "    \"EmpID\",\"FirstName\",\"LastName\",\"DepartmentType\",\"Performance Score\").show()"
   ]
  },
  {
   "cell_type": "code",
   "execution_count": 105,
   "id": "46853bd9-6259-464a-b829-8060b086a893",
   "metadata": {},
   "outputs": [
    {
     "name": "stdout",
     "output_type": "stream",
     "text": [
      "+-----+---------+--------+-----------------+-----------------------+\n",
      "|EmpID|FirstName|LastName|   DepartmentType|Current Employee Rating|\n",
      "+-----+---------+--------+-----------------+-----------------------+\n",
      "| 3822|  Katrina| Lambert| Executive Office|                      3|\n",
      "| 3466|  Clayton|  Walker|            IT/IS|                      4|\n",
      "| 3625|  Gabriel|  Dodson|Production       |                      5|\n",
      "| 3480| Jerimiah|  Harmon|            Sales|                      5|\n",
      "+-----+---------+--------+-----------------+-----------------------+\n",
      "\n"
     ]
    }
   ],
   "source": [
    "from pyspark.sql.window import Window\n",
    "\n",
    "window_spec = Window.partitionBy(\"DepartmentType\").orderBy(col(\"Current Employee Rating\").desc())\n",
    "\n",
    "top = df.withColumn(\"rank\", row_number().over(window_spec)).filter(col(\"rank\") == 1)\n",
    "\n",
    "top.select(\"EmpID\",\"FirstName\",\"LastName\",\"DepartmentType\",\"Current Employee Rating\").show()"
   ]
  },
  {
   "cell_type": "code",
   "execution_count": 107,
   "id": "6a37c4cd-4332-4af1-b928-772f0c53f45f",
   "metadata": {},
   "outputs": [],
   "source": [
    "df.write.csv(\"emp_final\",header=True)"
   ]
  },
  {
   "cell_type": "code",
   "execution_count": null,
   "id": "81b70dba-0bdf-4996-ab3e-538d4b7ddd77",
   "metadata": {},
   "outputs": [],
   "source": []
  }
 ],
 "metadata": {
  "kernelspec": {
   "display_name": "Python 3 (ipykernel)",
   "language": "python",
   "name": "python3"
  },
  "language_info": {
   "codemirror_mode": {
    "name": "ipython",
    "version": 3
   },
   "file_extension": ".py",
   "mimetype": "text/x-python",
   "name": "python",
   "nbconvert_exporter": "python",
   "pygments_lexer": "ipython3",
   "version": "3.12.4"
  }
 },
 "nbformat": 4,
 "nbformat_minor": 5
}
