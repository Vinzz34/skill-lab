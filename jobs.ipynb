{
 "cells": [
  {
   "cell_type": "code",
   "execution_count": 36,
   "id": "72241994-9d29-4fcf-9a64-71753a63110d",
   "metadata": {},
   "outputs": [
    {
     "name": "stdout",
     "output_type": "stream",
     "text": [
      "root\n",
      " |-- Job Title: string (nullable = true)\n",
      " |-- Salary Estimate: string (nullable = true)\n",
      " |-- Rating: double (nullable = true)\n",
      " |-- Location: string (nullable = true)\n",
      " |-- Size: string (nullable = true)\n",
      " |-- Type of ownership: string (nullable = true)\n",
      " |-- Industry: string (nullable = true)\n",
      " |-- Sector: string (nullable = true)\n",
      " |-- job_state: string (nullable = true)\n",
      " |-- company_age: integer (nullable = true)\n",
      " |-- python: integer (nullable = true)\n",
      " |-- spark: integer (nullable = true)\n",
      " |-- tableau: integer (nullable = true)\n",
      "\n",
      "+--------------------+---------------+------+-----------------+--------------------+--------------------+--------------------+--------------------+---------+-----------+------+-----+-------+\n",
      "|           Job Title|Salary Estimate|Rating|         Location|                Size|   Type of ownership|            Industry|              Sector|job_state|company_age|python|spark|tableau|\n",
      "+--------------------+---------------+------+-----------------+--------------------+--------------------+--------------------+--------------------+---------+-----------+------+-----+-------+\n",
      "|   Sr Data Scientist|       137-171 |   3.1|     New York, NY|1001 to 5000 empl...|Nonprofit Organiz...|  Insurance Carriers|           Insurance|       NY|         27|     0|    0|      0|\n",
      "|      Data Scientist|       137-171 |   4.2|    Chantilly, VA|5001 to 10000 emp...|    Company - Public|Research & Develo...|   Business Services|       VA|         52|     0|    0|      0|\n",
      "|      Data Scientist|       137-171 |   3.8|       Boston, MA|1001 to 5000 empl...|Private Practice ...|          Consulting|   Business Services|       MA|         39|     1|    0|      0|\n",
      "|      Data Scientist|       137-171 |   3.5|       Newton, MA|501 to 1000 emplo...|    Company - Public|Electrical & Elec...|       Manufacturing|       MA|         20|     1|    0|      0|\n",
      "|      Data Scientist|       137-171 |   2.9|     New York, NY| 51 to 200 employees|   Company - Private|Advertising & Mar...|   Business Services|       NY|         22|     1|    0|      0|\n",
      "|      Data Scientist|       137-171 |   4.2|Santa Barbara, CA| 51 to 200 employees|   Company - Private|Computer Hardware...|Information Techn...|       CA|         10|     1|    1|      0|\n",
      "|Data Scientist / ...|       137-171 |   3.9|    Cambridge, MA|    10000+ employees|    Company - Public|Biotech & Pharmac...|Biotech & Pharmac...|       MA|         24|     1|    0|      0|\n",
      "|      Data Scientist|       137-171 |   3.5|      Bedford, MA|1001 to 5000 empl...|    Company - Public|Consumer Electron...|              Retail|       MA|         30|     1|    0|      0|\n",
      "|Staff Data Scient...|       137-171 |   4.4|    San Diego, CA|5001 to 10000 emp...|    Company - Public|Computer Hardware...|Information Techn...|       CA|         37|     0|    0|      0|\n",
      "|      Data Scientist|       137-171 |   3.6|      Chicago, IL| 51 to 200 employees|   Company - Private|Enterprise Softwa...|Information Techn...|       IL|          6|     1|    0|      0|\n",
      "|      Data Scientist|       137-171 |   4.5|      Herndon, VA|501 to 1000 emplo...|   Company - Private|Enterprise Softwa...|Information Techn...|       VA|          8|     1|    0|      0|\n",
      "|      Data Scientist|       137-171 |   4.7|  Saint Louis, MO| 51 to 200 employees|   Company - Private|         IT Services|Information Techn...|       MO|          4|     1|    1|      0|\n",
      "|Data Scientist - ...|       137-171 |   3.7|     Richland, WA|1001 to 5000 empl...|          Government|              Energy|Oil, Gas, Energy ...|       WA|         55|     0|    0|      0|\n",
      "|        Data Modeler|       137-171 |   3.1|   Northbrook, IL|201 to 500 employees|   Company - Private|Chemical Manufact...|       Manufacturing|       IL|         47|     1|    0|      1|\n",
      "|      Data Scientist|       137-171 |   3.4|   Washington, DC|1001 to 5000 empl...|   Company - Private|          Consulting|   Business Services|       DC|         34|     1|    0|      0|\n",
      "|Experienced Data ...|       137-171 |   4.4|   Washington, DC|   1 to 50 employees|   Company - Private|    Federal Agencies|          Government|       DC|         23|     1|    1|      1|\n",
      "|      Data Scientist|       137-171 |   3.5|      Memphis, TN|1001 to 5000 empl...|   Company - Private|Chemical Manufact...|       Manufacturing|       TN|         75|     1|    0|      0|\n",
      "|     Data Analyst II|       137-171 |   4.2|        Plano, TX|5001 to 10000 emp...|    Company - Public|Enterprise Softwa...|Information Techn...|       TX|         32|     0|    0|      0|\n",
      "|Medical Lab Scien...|       137-171 |   3.5|   West Grove, PA|5001 to 10000 emp...|Nonprofit Organiz...|Health Care Servi...|         Health Care|       PA|          3|     0|    0|      0|\n",
      "|      Data Scientist|       137-171 |   3.2|     New York, NY| 51 to 200 employees|   Company - Private|Computer Hardware...|Information Techn...|       NY|          5|     0|    0|      0|\n",
      "+--------------------+---------------+------+-----------------+--------------------+--------------------+--------------------+--------------------+---------+-----------+------+-----+-------+\n",
      "only showing top 20 rows\n",
      "\n"
     ]
    }
   ],
   "source": [
    "from pyspark.sql import SparkSession\n",
    "from pyspark.sql.functions import *\n",
    "\n",
    "# Initialize SparkSession\n",
    "spark = SparkSession.builder.appName(\"DataCleaning\").getOrCreate()\n",
    "\n",
    "# Load the dataset into a DataFrame\n",
    "df = spark.read.csv(\"Cleaned_DS_Jobs.csv\", header=True, inferSchema=True)\n",
    "\n",
    "# Show the schema and check for null or malformed entries\n",
    "df.printSchema()\n",
    "df.show()"
   ]
  },
  {
   "cell_type": "code",
   "execution_count": 37,
   "id": "8da11fed-48c9-4785-bb2f-ad5a937cafc1",
   "metadata": {},
   "outputs": [],
   "source": [
    "# Split the salary_estimate column into two parts using the '-' delimiter\n",
    "df = df.withColumn(\"min_salary\", split(col(\"Salary Estimate\"), \"-\").getItem(0).cast(\"integer\")) \\\n",
    "       .withColumn(\"max_salary\", split(col(\"Salary Estimate\"), \"-\").getItem(1).cast(\"integer\"))\n"
   ]
  },
  {
   "cell_type": "code",
   "execution_count": 38,
   "id": "efabaded-f944-47d0-be14-fe74b9bc4af2",
   "metadata": {},
   "outputs": [
    {
     "name": "stdout",
     "output_type": "stream",
     "text": [
      "+--------------------+------+-----------------+--------------------+--------------------+--------------------+--------------------+---------+-----------+------+-----+-------+----------+----------+\n",
      "|           Job Title|Rating|         Location|                Size|   Type of ownership|            Industry|              Sector|job_state|company_age|python|spark|tableau|min_salary|max_salary|\n",
      "+--------------------+------+-----------------+--------------------+--------------------+--------------------+--------------------+---------+-----------+------+-----+-------+----------+----------+\n",
      "|   Sr Data Scientist|   3.1|     New York, NY|1001 to 5000 empl...|Nonprofit Organiz...|  Insurance Carriers|           Insurance|       NY|         27|     0|    0|      0|       137|       171|\n",
      "|      Data Scientist|   4.2|    Chantilly, VA|5001 to 10000 emp...|    Company - Public|Research & Develo...|   Business Services|       VA|         52|     0|    0|      0|       137|       171|\n",
      "|      Data Scientist|   3.8|       Boston, MA|1001 to 5000 empl...|Private Practice ...|          Consulting|   Business Services|       MA|         39|     1|    0|      0|       137|       171|\n",
      "|      Data Scientist|   3.5|       Newton, MA|501 to 1000 emplo...|    Company - Public|Electrical & Elec...|       Manufacturing|       MA|         20|     1|    0|      0|       137|       171|\n",
      "|      Data Scientist|   2.9|     New York, NY| 51 to 200 employees|   Company - Private|Advertising & Mar...|   Business Services|       NY|         22|     1|    0|      0|       137|       171|\n",
      "|      Data Scientist|   4.2|Santa Barbara, CA| 51 to 200 employees|   Company - Private|Computer Hardware...|Information Techn...|       CA|         10|     1|    1|      0|       137|       171|\n",
      "|Data Scientist / ...|   3.9|    Cambridge, MA|    10000+ employees|    Company - Public|Biotech & Pharmac...|Biotech & Pharmac...|       MA|         24|     1|    0|      0|       137|       171|\n",
      "|      Data Scientist|   3.5|      Bedford, MA|1001 to 5000 empl...|    Company - Public|Consumer Electron...|              Retail|       MA|         30|     1|    0|      0|       137|       171|\n",
      "|Staff Data Scient...|   4.4|    San Diego, CA|5001 to 10000 emp...|    Company - Public|Computer Hardware...|Information Techn...|       CA|         37|     0|    0|      0|       137|       171|\n",
      "|      Data Scientist|   3.6|      Chicago, IL| 51 to 200 employees|   Company - Private|Enterprise Softwa...|Information Techn...|       IL|          6|     1|    0|      0|       137|       171|\n",
      "|      Data Scientist|   4.5|      Herndon, VA|501 to 1000 emplo...|   Company - Private|Enterprise Softwa...|Information Techn...|       VA|          8|     1|    0|      0|       137|       171|\n",
      "|      Data Scientist|   4.7|  Saint Louis, MO| 51 to 200 employees|   Company - Private|         IT Services|Information Techn...|       MO|          4|     1|    1|      0|       137|       171|\n",
      "|Data Scientist - ...|   3.7|     Richland, WA|1001 to 5000 empl...|          Government|              Energy|Oil, Gas, Energy ...|       WA|         55|     0|    0|      0|       137|       171|\n",
      "|        Data Modeler|   3.1|   Northbrook, IL|201 to 500 employees|   Company - Private|Chemical Manufact...|       Manufacturing|       IL|         47|     1|    0|      1|       137|       171|\n",
      "|      Data Scientist|   3.4|   Washington, DC|1001 to 5000 empl...|   Company - Private|          Consulting|   Business Services|       DC|         34|     1|    0|      0|       137|       171|\n",
      "|Experienced Data ...|   4.4|   Washington, DC|   1 to 50 employees|   Company - Private|    Federal Agencies|          Government|       DC|         23|     1|    1|      1|       137|       171|\n",
      "|      Data Scientist|   3.5|      Memphis, TN|1001 to 5000 empl...|   Company - Private|Chemical Manufact...|       Manufacturing|       TN|         75|     1|    0|      0|       137|       171|\n",
      "|     Data Analyst II|   4.2|        Plano, TX|5001 to 10000 emp...|    Company - Public|Enterprise Softwa...|Information Techn...|       TX|         32|     0|    0|      0|       137|       171|\n",
      "|Medical Lab Scien...|   3.5|   West Grove, PA|5001 to 10000 emp...|Nonprofit Organiz...|Health Care Servi...|         Health Care|       PA|          3|     0|    0|      0|       137|       171|\n",
      "|      Data Scientist|   3.2|     New York, NY| 51 to 200 employees|   Company - Private|Computer Hardware...|Information Techn...|       NY|          5|     0|    0|      0|       137|       171|\n",
      "+--------------------+------+-----------------+--------------------+--------------------+--------------------+--------------------+---------+-----------+------+-----+-------+----------+----------+\n",
      "only showing top 20 rows\n",
      "\n"
     ]
    }
   ],
   "source": [
    "df = df.drop(\"Salary Estimate\")\n",
    "df.show()"
   ]
  },
  {
   "cell_type": "code",
   "execution_count": 39,
   "id": "8e2526a8-7112-4548-80ab-561d446ae804",
   "metadata": {},
   "outputs": [],
   "source": [
    "df = df.withColumn(\"average salary\",((col(\"min_salary\") + col(\"max_salary\"))/2).cast(\"float\"))"
   ]
  },
  {
   "cell_type": "code",
   "execution_count": 40,
   "id": "4b4ea596-65f2-47ee-bb8e-c947e34f1ad9",
   "metadata": {},
   "outputs": [],
   "source": [
    "df = df.withColumn(\"Rating\",when(col(\"Rating\") <= 0, 1).otherwise(col(\"Rating\")))"
   ]
  },
  {
   "cell_type": "code",
   "execution_count": 41,
   "id": "9b710da2-5ecc-4767-86b2-51a1e48925d6",
   "metadata": {},
   "outputs": [
    {
     "name": "stdout",
     "output_type": "stream",
     "text": [
      "Columns with NULL Values: ['Size', 'Type of ownership', 'Industry', 'Sector']\n",
      "Columns with NULL Values: []\n"
     ]
    }
   ],
   "source": [
    "columns_with_null = [c for c in df.columns if df.filter(col(c).isNull()).count()>0]\n",
    "print(f\"Columns with NULL Values: {columns_with_null}\")\n",
    "\n",
    "df = df.fillna({col: 1 for col in columns_with_null})\n",
    "\n",
    "columns_with_null = [c for c in df.columns if df.filter(col(c).isNull()).count()>0]\n",
    "print(f\"Columns with NULL Values: {columns_with_null}\")"
   ]
  },
  {
   "cell_type": "code",
   "execution_count": 43,
   "id": "4c0ef91d-b9de-4467-ac0e-7e6eee8c93b9",
   "metadata": {},
   "outputs": [
    {
     "name": "stdout",
     "output_type": "stream",
     "text": [
      "+--------------------+-------------------+\n",
      "|           Job Title|avg(average salary)|\n",
      "+--------------------+-------------------+\n",
      "|Senior Data Scien...|  99.33333333333333|\n",
      "|Clinical Data Ana...|              164.5|\n",
      "|Senior Business I...|               90.0|\n",
      "|Data Analyst/Engi...|              115.5|\n",
      "|Staff BI and Data...|              107.0|\n",
      "|Intelligence Data...|              90.75|\n",
      "|Report Writer-Dat...|               92.5|\n",
      "|Hydrogen/Tritium ...|              148.0|\n",
      "|Business Intellig...|             109.25|\n",
      "|        Data Modeler|              154.0|\n",
      "|Scientist / Group...|              197.5|\n",
      "|Senior Research S...|              105.0|\n",
      "|Software Engineer...|              164.5|\n",
      "|   Sr Data Scientist|             126.75|\n",
      "|COMPUTER SCIENTIS...|              271.5|\n",
      "|Data Scientist/Ma...|              125.5|\n",
      "|Data Scientist - ...|              120.5|\n",
      "|  Decision Scientist|               94.5|\n",
      "|Data Scientist - ...|              97.75|\n",
      "|Data Scientist / ...|              128.5|\n",
      "+--------------------+-------------------+\n",
      "only showing top 20 rows\n",
      "\n"
     ]
    }
   ],
   "source": [
    "# Group by Job Title and calculate the average salary\n",
    "job_title_avg_salary = df.groupBy(\"Job Title\").avg(\"average salary\")\n",
    "job_title_avg_salary.show()"
   ]
  },
  {
   "cell_type": "code",
   "execution_count": 47,
   "id": "b5b1c9af-720c-4aea-842f-9165451f4cce",
   "metadata": {},
   "outputs": [
    {
     "name": "stdout",
     "output_type": "stream",
     "text": [
      "+--------------------+-------------------+\n",
      "|                Size|avg(average salary)|\n",
      "+--------------------+-------------------+\n",
      "|5001 to 10000 emp...|  126.6639344262295|\n",
      "|             Unknown| 143.38235294117646|\n",
      "| 51 to 200 employees|       127.83203125|\n",
      "|1001 to 5000 empl...|  121.7548076923077|\n",
      "|501 to 1000 emplo...| 120.93506493506493|\n",
      "|                   1|  130.7962962962963|\n",
      "|201 to 500 employees|  119.1987951807229|\n",
      "|    10000+ employees| 122.80379746835443|\n",
      "|   1 to 50 employees|              120.0|\n",
      "+--------------------+-------------------+\n",
      "\n"
     ]
    }
   ],
   "source": [
    "# Group by Company Size and calculate the average salary\n",
    "company_size_avg_salary = df.groupBy(\"Size\").avg(\"average salary\")\n",
    "company_size_avg_salary.show()"
   ]
  },
  {
   "cell_type": "code",
   "execution_count": 50,
   "id": "9f400cb7-8e80-4dad-9765-5477edc10182",
   "metadata": {},
   "outputs": [],
   "source": [
    "import pandas as pd\n",
    "\n",
    "pd_frame = df.toPandas()\n",
    "pd_frame.to_csv(\"cleaned_jobs.csv\", index=False)"
   ]
  },
  {
   "cell_type": "code",
   "execution_count": null,
   "id": "20a6ef09-2f62-475d-a0cf-5de3e80e6f2e",
   "metadata": {},
   "outputs": [],
   "source": []
  }
 ],
 "metadata": {
  "kernelspec": {
   "display_name": "Python 3 (ipykernel)",
   "language": "python",
   "name": "python3"
  },
  "language_info": {
   "codemirror_mode": {
    "name": "ipython",
    "version": 3
   },
   "file_extension": ".py",
   "mimetype": "text/x-python",
   "name": "python",
   "nbconvert_exporter": "python",
   "pygments_lexer": "ipython3",
   "version": "3.12.4"
  }
 },
 "nbformat": 4,
 "nbformat_minor": 5
}
