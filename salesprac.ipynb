{
 "cells": [
  {
   "cell_type": "code",
   "execution_count": 1,
   "id": "2e1d975c-639e-4f8e-a9b9-9bf190424894",
   "metadata": {},
   "outputs": [
    {
     "name": "stderr",
     "output_type": "stream",
     "text": [
      "24/12/30 00:05:20 WARN Utils: Your hostname, vinzzmacbook.local resolves to a loopback address: 127.0.0.1; using 192.168.0.200 instead (on interface en0)\n",
      "24/12/30 00:05:20 WARN Utils: Set SPARK_LOCAL_IP if you need to bind to another address\n",
      "Setting default log level to \"WARN\".\n",
      "To adjust logging level use sc.setLogLevel(newLevel). For SparkR, use setLogLevel(newLevel).\n",
      "24/12/30 00:05:20 WARN NativeCodeLoader: Unable to load native-hadoop library for your platform... using builtin-java classes where applicable\n",
      "                                                                                "
     ]
    },
    {
     "name": "stdout",
     "output_type": "stream",
     "text": [
      "+---+--------+--------------------+----------------+----------+----------------+--------------------+-----+------+--------------+----+\n",
      "|_c0|Order ID|             Product|Quantity Ordered|Price Each|      Order Date|    Purchase Address|Month| Sales|          City|Hour|\n",
      "+---+--------+--------------------+----------------+----------+----------------+--------------------+-----+------+--------------+----+\n",
      "|  0|  295665|  Macbook Pro Laptop|               1|    1700.0|30-12-2019 00:01|136 Church St, Ne...|   12|1700.0| New York City|   0|\n",
      "|  1|  295666|  LG Washing Machine|               1|     600.0|29-12-2019 07:03|562 2nd St, New Y...|   12| 600.0| New York City|   7|\n",
      "|  2|  295667|USB-C Charging Cable|               1|     11.95|12-12-2019 18:21|277 Main St, New ...|   12| 11.95| New York City|  18|\n",
      "|  3|  295668|    27in FHD Monitor|               1|    149.99|22-12-2019 15:13|410 6th St, San F...|   12|149.99| San Francisco|  15|\n",
      "|  4|  295669|USB-C Charging Cable|               1|     11.95|18-12-2019 12:38|43 Hill St, Atlan...|   12| 11.95|       Atlanta| -12|\n",
      "|  5|  295670|AA Batteries (4-p...|               1|      3.84|31-12-2019 22:58|200 Jefferson St,...|   12|  NULL| New York City| 122|\n",
      "|  6|  295671|USB-C Charging Cable|               1|     11.95|16-12-2019 15:10|928 12th St, Port...|   12| 11.95|      Portland|  15|\n",
      "|  7|  295672|USB-C Charging Cable|               2|     11.95|13-12-2019 09:29|813 Hickory St, D...|   12|  23.9|        Dallas|   9|\n",
      "|  8|  295673|Bose SoundSport H...|               1|     99.99|15-12-2019 23:26|718 Wilson St, Da...|   12| 99.99|        Dallas|  23|\n",
      "|  9|  295674|AAA Batteries (4-...|               4|      2.99|28-12-2019 11:51|77 7th St, Dallas...|   12| 11.96|        Dallas|  11|\n",
      "| 10|  295675|USB-C Charging Cable|               2|     11.95|13-12-2019 13:52|594 1st St, San F...|   12|  23.9| San Francisco|  13|\n",
      "| 11|  295676|     ThinkPad Laptop|               1|    999.99|28-12-2019 17:19|410 Lincoln St, L...|   12|999.99|   Los Angeles|  17|\n",
      "| 12|  295677|AA Batteries (4-p...|               2|      3.84|20-12-2019 19:19|866 Pine St, Bost...|   12|  7.68|        Boston| -19|\n",
      "| 13|  295678|AAA Batteries (4-...|               2|      2.99|06-12-2019 09:38|187 Lincoln St, D...|   12|  5.98|        Dallas|   9|\n",
      "| 14|  295679|USB-C Charging Cable|               1|     11.95|25-12-2019 09:39|902 2nd St, Dalla...|   12| 11.95|        Dallas|   9|\n",
      "| 15|  295680|Lightning Chargin...|               1|     14.95|01-12-2019 14:30|338 Main St, Aust...|   12| 14.95|        Austin|  14|\n",
      "| 16|  295681|        Google Phone|               1|     600.0|25-12-2019 12:37|79 Elm St, Boston...|   12| 600.0|        Boston|  12|\n",
      "| 17|  295681|USB-C Charging Cable|               1|     11.95|25-12-2019 12:37|79 Elm St, Boston...|   12|  NULL|        Boston|  12|\n",
      "| 18|  295681|Bose SoundSport H...|               1|     99.99|25-12-2019 12:37|79 Elm St, Boston...|   12| 99.99|        Boston|  12|\n",
      "| 19|  295681|    Wired Headphones|               1|     11.99|25-12-2019 12:37|79 Elm St, Boston...|   12| 11.99|        Boston|  12|\n",
      "+---+--------+--------------------+----------------+----------+----------------+--------------------+-----+------+--------------+----+\n",
      "only showing top 20 rows\n",
      "\n"
     ]
    },
    {
     "name": "stderr",
     "output_type": "stream",
     "text": [
      "24/12/30 00:05:26 WARN CSVHeaderChecker: CSV header does not conform to the schema.\n",
      " Header: , Order ID, Product, Quantity Ordered, Price Each, Order Date, Purchase Address, Month, Sales, City, Hour\n",
      " Schema: _c0, Order ID, Product, Quantity Ordered, Price Each, Order Date, Purchase Address, Month, Sales, City, Hour\n",
      "Expected: _c0 but found: \n",
      "CSV file: file:///Users/vinzz/pyspark/Sales_Data.csv\n",
      "24/12/30 00:05:36 WARN GarbageCollectionMetrics: To enable non-built-in garbage collector(s) List(G1 Concurrent GC), users should configure it(them) to spark.eventLog.gcMetrics.youngGenerationGarbageCollectors or spark.eventLog.gcMetrics.oldGenerationGarbageCollectors\n"
     ]
    }
   ],
   "source": [
    "from pyspark.sql import SparkSession\n",
    "from pyspark.sql.functions import *\n",
    "\n",
    "spark = SparkSession.builder.appName(\"Sales\").getOrCreate()\n",
    "\n",
    "df = spark.read.csv(\"Sales_Data.csv\",header=True,inferSchema=True)\n",
    "\n",
    "df.show()"
   ]
  },
  {
   "cell_type": "code",
   "execution_count": 2,
   "id": "b5c5d2da-2754-45a3-adfa-a3d32c8c5a56",
   "metadata": {},
   "outputs": [
    {
     "name": "stderr",
     "output_type": "stream",
     "text": [
      "24/12/30 00:06:06 WARN CSVHeaderChecker: CSV header does not conform to the schema.\n",
      " Header: , Order ID, Product, Quantity Ordered, Price Each, Order Date, Purchase Address, Month, Sales, City, Hour\n",
      " Schema: _c0, Order ID, Product, Quantity Ordered, Price Each, Order Date, Purchase Address, Month, Sales, City, Hour\n",
      "Expected: _c0 but found: \n",
      "CSV file: file:///Users/vinzz/pyspark/Sales_Data.csv\n"
     ]
    },
    {
     "name": "stdout",
     "output_type": "stream",
     "text": [
      "+---+--------+-------+----------------+----------+----------+----------------+-----+-----+----+----+\n",
      "|_c0|Order ID|Product|Quantity Ordered|Price Each|Order Date|Purchase Address|Month|Sales|City|Hour|\n",
      "+---+--------+-------+----------------+----------+----------+----------------+-----+-----+----+----+\n",
      "|  0|       0|      0|               0|         0|         0|               0|    0|    3|   0|   0|\n",
      "+---+--------+-------+----------------+----------+----------+----------------+-----+-----+----+----+\n",
      "\n"
     ]
    }
   ],
   "source": [
    "df.select([count(when(col(c).isNull(),c)).alias(c) for c in df.columns]).show()"
   ]
  },
  {
   "cell_type": "code",
   "execution_count": 4,
   "id": "77b33228-adce-4066-8726-2c00412155b3",
   "metadata": {},
   "outputs": [],
   "source": [
    "df = df.fillna({\"Sales\": df.agg(avg(\"Sales\")).collect()[0][0]})\n",
    "# df = df.dropna(subset=[\"Sales\",\"Quantity Ordered\"])"
   ]
  },
  {
   "cell_type": "code",
   "execution_count": 7,
   "id": "9f83197a-ccc8-4caf-912a-b9c3d0404e2d",
   "metadata": {},
   "outputs": [],
   "source": [
    "df = df.dropDuplicates()"
   ]
  },
  {
   "cell_type": "code",
   "execution_count": 8,
   "id": "46d3a2ef-8a97-4607-a3a4-2dcf7996fdbb",
   "metadata": {},
   "outputs": [
    {
     "name": "stdout",
     "output_type": "stream",
     "text": [
      "root\n",
      " |-- _c0: integer (nullable = true)\n",
      " |-- Order ID: integer (nullable = true)\n",
      " |-- Product: string (nullable = true)\n",
      " |-- Quantity Ordered: integer (nullable = true)\n",
      " |-- Price Each: double (nullable = true)\n",
      " |-- Order Date: string (nullable = true)\n",
      " |-- Purchase Address: string (nullable = true)\n",
      " |-- Month: integer (nullable = true)\n",
      " |-- Sales: double (nullable = false)\n",
      " |-- City: string (nullable = true)\n",
      " |-- Hour: integer (nullable = true)\n",
      "\n"
     ]
    }
   ],
   "source": [
    "df.printSchema()"
   ]
  },
  {
   "cell_type": "code",
   "execution_count": 9,
   "id": "91082866-e1fb-4498-9967-287ef530fbef",
   "metadata": {},
   "outputs": [
    {
     "name": "stdout",
     "output_type": "stream",
     "text": [
      "root\n",
      " |-- _c0: integer (nullable = true)\n",
      " |-- Order ID: integer (nullable = true)\n",
      " |-- Product: string (nullable = true)\n",
      " |-- Quantity Ordered: integer (nullable = true)\n",
      " |-- Price Each: double (nullable = true)\n",
      " |-- Order Date: string (nullable = true)\n",
      " |-- Purchase Address: string (nullable = true)\n",
      " |-- Month: integer (nullable = true)\n",
      " |-- Sales: double (nullable = false)\n",
      " |-- City: string (nullable = true)\n",
      " |-- Hour: integer (nullable = true)\n",
      "\n"
     ]
    }
   ],
   "source": [
    "df = df.withColumn(\"Quantity Ordered\",col(\"Quantity Ordered\").cast(\"int\"))\\\n",
    ".withColumn(\"Price Each\",col(\"Price Each\").cast(\"double\"))\\\n",
    ".withColumn(\"Sales\",col(\"Sales\").cast(\"double\"))\\\n",
    "\n",
    "df.printSchema()"
   ]
  },
  {
   "cell_type": "code",
   "execution_count": 10,
   "id": "57ed1b76-972d-434c-8eb0-8ce67e5716a9",
   "metadata": {},
   "outputs": [],
   "source": [
    "df = df.filter((col(\"Sales\") >= 0) & (col(\"Quantity Ordered\") >= 0) & (col(\"Price Each\") >= 0))"
   ]
  },
  {
   "cell_type": "code",
   "execution_count": 12,
   "id": "183f6015-1d61-4990-ad47-d1c2a839cefc",
   "metadata": {},
   "outputs": [
    {
     "name": "stderr",
     "output_type": "stream",
     "text": [
      "24/12/30 00:13:16 WARN CSVHeaderChecker: CSV header does not conform to the schema.\n",
      " Header: , Order ID, Product, Quantity Ordered, Price Each, Order Date, Purchase Address, Month, Sales, City, Hour\n",
      " Schema: _c0, Order ID, Product, Quantity Ordered, Price Each, Order Date, Purchase Address, Month, Sales, City, Hour\n",
      "Expected: _c0 but found: \n",
      "CSV file: file:///Users/vinzz/pyspark/Sales_Data.csv\n",
      "[Stage 13:=========>                                                (1 + 5) / 6]"
     ]
    },
    {
     "name": "stdout",
     "output_type": "stream",
     "text": [
      "+--------------------+------------------+\n",
      "|             Product|        sum(Sales)|\n",
      "+--------------------+------------------+\n",
      "|    Wired Headphones|246651.93376000616|\n",
      "|  Macbook Pro Laptop|         8037600.0|\n",
      "|Apple Airpods Hea...|         2349150.0|\n",
      "|              iPhone|         4794300.0|\n",
      "|Lightning Chargin...|347094.14999999467|\n",
      "|Bose SoundSport H...| 1345565.429999996|\n",
      "|USB-C Charging Cable|286674.79376000166|\n",
      "|AAA Batteries (4-...|   92740.829999996|\n",
      "|        20in Monitor| 454148.7099999983|\n",
      "|    27in FHD Monitor|1132424.5000000102|\n",
      "|     Vareebadd Phone|          827200.0|\n",
      "|34in Ultrawide Mo...|2355558.0099999746|\n",
      "|            LG Dryer|          387600.0|\n",
      "|AA Batteries (4-p...|106300.05375999905|\n",
      "|        Google Phone|         3319200.0|\n",
      "|       Flatscreen TV|         1445700.0|\n",
      "|  LG Washing Machine|          399600.0|\n",
      "|27in 4K Gaming Mo...|2435097.5599999735|\n",
      "|     ThinkPad Laptop|4129958.6999999736|\n",
      "+--------------------+------------------+\n",
      "\n"
     ]
    },
    {
     "name": "stderr",
     "output_type": "stream",
     "text": [
      "                                                                                "
     ]
    }
   ],
   "source": [
    "df.groupBy(\"Product\").sum(\"Sales\").show()"
   ]
  },
  {
   "cell_type": "code",
   "execution_count": 14,
   "id": "c446d4fa-d2eb-4719-aef8-30ba7251e2cc",
   "metadata": {},
   "outputs": [
    {
     "name": "stderr",
     "output_type": "stream",
     "text": [
      "24/12/30 00:14:27 WARN CSVHeaderChecker: CSV header does not conform to the schema.\n",
      " Header: , Order ID, Product, Quantity Ordered, Price Each, Order Date, Purchase Address, Month, Sales, City, Hour\n",
      " Schema: _c0, Order ID, Product, Quantity Ordered, Price Each, Order Date, Purchase Address, Month, Sales, City, Hour\n",
      "Expected: _c0 but found: \n",
      "CSV file: file:///Users/vinzz/pyspark/Sales_Data.csv\n",
      "                                                                                "
     ]
    }
   ],
   "source": [
    "df.coalesce(1).write.csv(\"sales_prac\",header=True)"
   ]
  },
  {
   "cell_type": "code",
   "execution_count": null,
   "id": "130c6899-6739-4d87-b218-40fee396b131",
   "metadata": {},
   "outputs": [],
   "source": []
  }
 ],
 "metadata": {
  "kernelspec": {
   "display_name": "Python 3 (ipykernel)",
   "language": "python",
   "name": "python3"
  },
  "language_info": {
   "codemirror_mode": {
    "name": "ipython",
    "version": 3
   },
   "file_extension": ".py",
   "mimetype": "text/x-python",
   "name": "python",
   "nbconvert_exporter": "python",
   "pygments_lexer": "ipython3",
   "version": "3.12.4"
  }
 },
 "nbformat": 4,
 "nbformat_minor": 5
}
